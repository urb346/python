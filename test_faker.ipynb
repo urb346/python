{
 "metadata": {
  "language_info": {
   "codemirror_mode": {
    "name": "ipython",
    "version": 3
   },
   "file_extension": ".py",
   "mimetype": "text/x-python",
   "name": "python",
   "nbconvert_exporter": "python",
   "pygments_lexer": "ipython3",
   "version": "3.8.5-final"
  },
  "orig_nbformat": 2,
  "kernelspec": {
   "name": "python3",
   "display_name": "Python 3.8.5 64-bit ('env')",
   "metadata": {
    "interpreter": {
     "hash": "c55128b4a73cba184d30206a76731e5abd4bc973b7b757b62112eb02e816732e"
    }
   }
  }
 },
 "nbformat": 4,
 "nbformat_minor": 2,
 "cells": [
  {
   "cell_type": "code",
   "execution_count": null,
   "metadata": {},
   "outputs": [],
   "source": [
    "from faker import Faker\n",
    "import pandas as pd"
   ]
  },
  {
   "cell_type": "code",
   "execution_count": null,
   "metadata": {},
   "outputs": [],
   "source": [
    "fields = { \n",
    "            'num_1': {'type': 'number', 'fake_provider':'random_digit_not_null', 'fake':'y'}, \n",
    "            'num_2': {'type': 'number', 'fake': 'n'}, \n",
    "            'num_3': {'type': 'number', 'fake': 'y'}, \n",
    "            'char_job': {'type': 'char', 'fake_provider': 'job','fake':'y'},\n",
    "            'char_company': {'type': 'char', 'fake_provider': 'company','fake':'y'},\n",
    "            'char_whatever': {'type': 'char', 'fake':'y'}\n",
    "        }"
   ]
  },
  {
   "cell_type": "code",
   "execution_count": null,
   "metadata": {},
   "outputs": [],
   "source": [
    "def get_fake_provide_value(faker, provider):\n",
    "    if provider == 'random_digit_not_null':\n",
    "        return faker.random_digit_not_null()\n",
    "    elif provider == 'job':\n",
    "        return faker.job()\n",
    "    elif provider == 'company':\n",
    "        return faker.company()"
   ]
  },
  {
   "cell_type": "code",
   "execution_count": null,
   "metadata": {},
   "outputs": [],
   "source": [
    "def get_fake_value(faker, provider, col_type):\n",
    "    if provider:\n",
    "        return get_fake_provide_value(faker,provider)\n",
    "    else: \n",
    "        if col_type == 'number':\n",
    "            return faker.random_int()\n",
    "        elif col_type == 'char':\n",
    "            return faker.random_letter()        "
   ]
  },
  {
   "cell_type": "code",
   "execution_count": null,
   "metadata": {},
   "outputs": [],
   "source": [
    "def fake_data(nr_of_rows, fields):   \n",
    "    fake_maker = Faker('no_NO')\n",
    "    ld = list()\n",
    "    d = dict()\n",
    "    for i in range(nr_of_rows):\n",
    "        d.clear()\n",
    "        d['id'] = i\n",
    "        for col in fields:\n",
    "            if fields[col]['fake'] == 'y':\n",
    "                fp = ''\n",
    "                if 'fake_provider' in fields[col]:\n",
    "                    fp = fields[col]['fake_provider'                                ]\n",
    "                d[col] = get_fake_value(fake_maker, fp, fields[col]['type'])\n",
    "            else:\n",
    "                d[col] = ''\n",
    "        ld.append(d.copy())\n",
    "    return ld    "
   ]
  },
  {
   "cell_type": "code",
   "execution_count": null,
   "metadata": {},
   "outputs": [],
   "source": [
    "df = pd.DataFrame(fake_data(10,fields))"
   ]
  },
  {
   "cell_type": "code",
   "execution_count": null,
   "metadata": {},
   "outputs": [],
   "source": [
    "df.head()"
   ]
  }
 ]
}